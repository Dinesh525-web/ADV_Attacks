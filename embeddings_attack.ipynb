{
 "cells": [
  {
   "cell_type": "code",
   "execution_count": null,
   "metadata": {
    "vscode": {
     "languageId": "plaintext"
    }
   },
   "outputs": [],
   "source": [
    "!pip install torch transformers accelerate bitsandbytes numpy scipy"
   ]
  },
  {
   "cell_type": "code",
   "execution_count": null,
   "metadata": {
    "vscode": {
     "languageId": "plaintext"
    }
   },
   "outputs": [],
   "source": [
    "import transformers\n",
    "import torch\n",
    "import numpy as np\n",
    "import os\n",
    "\n",
    "# ✅ Hugging Face Authentication\n",
    "hf_auth = os.getenv(\"HF_TOKEN\")  # Set before running or manually: \"your-huggingface-access-token\"\n",
    "\n",
    "# ✅ Load the Model\n",
    "model_id = \"thrishala/mental_health_chatbot\"\n",
    "\n",
    "device = \"cuda\" if torch.cuda.is_available() else \"cpu\"\n",
    "print(f\"🔹 Using device: {device}\")\n",
    "\n",
    "tokenizer = transformers.AutoTokenizer.from_pretrained(model_id, token=hf_auth)\n",
    "model = transformers.AutoModelForCausalLM.from_pretrained(\n",
    "    model_id, \n",
    "    device_map=\"auto\", \n",
    "    token=hf_auth\n",
    ")\n",
    "\n",
    "model.eval()\n",
    "print(\"✅ Model & Tokenizer Loaded Successfully!\")"
   ]
  },
  {
   "cell_type": "code",
   "execution_count": null,
   "metadata": {
    "vscode": {
     "languageId": "plaintext"
    }
   },
   "outputs": [],
   "source": [
    "def extract_embedding(text):\n",
    "    \"\"\"Extracts token embeddings from the model\"\"\"\n",
    "    inputs = tokenizer(text, return_tensors=\"pt\").to(device)\n",
    "    \n",
    "    with torch.no_grad():\n",
    "        outputs = model(**inputs, output_hidden_states=True)\n",
    "    \n",
    "    # ✅ Get last hidden state embeddings\n",
    "    embeddings = outputs.hidden_states[-1].squeeze(0)\n",
    "    return embeddings\n",
    "\n",
    "# ✅ Test embedding extraction\n",
    "test_text = \"I feel anxious and stressed all the time. What should I do?\"\n",
    "embeddings = extract_embedding(test_text)\n",
    "\n",
    "print(\"🔹 Embedding Shape:\", embeddings.shape)"
   ]
  },
  {
   "cell_type": "code",
   "execution_count": null,
   "metadata": {
    "vscode": {
     "languageId": "plaintext"
    }
   },
   "outputs": [],
   "source": [
    "import torch.nn.functional as F\n",
    "\n",
    "def perturb_embedding(embedding, epsilon=0.05):\n",
    "    \"\"\"Adds small perturbations to the embeddings to mislead the model.\"\"\"\n",
    "    noise = torch.randn_like(embedding) * epsilon\n",
    "    perturbed_embedding = embedding + noise\n",
    "    return perturbed_embedding\n",
    "\n",
    "# ✅ Test by perturbing extracted embeddings\n",
    "perturbed_embeddings = perturb_embedding(embeddings)\n",
    "print(\"✅ Perturbed Embeddings Created!\")"
   ]
  },
  {
   "cell_type": "code",
   "execution_count": null,
   "metadata": {
    "vscode": {
     "languageId": "plaintext"
    }
   },
   "outputs": [],
   "source": [
    "def generate_with_embeddings(perturbed_embedding):\n",
    "    \"\"\"Generates response using perturbed embeddings\"\"\"\n",
    "    # Ensure shape is correct\n",
    "    perturbed_embedding = perturbed_embedding.unsqueeze(0).to(device)\n",
    "\n",
    "    with torch.no_grad():\n",
    "        outputs = model.generate(\n",
    "            inputs_embeds=perturbed_embedding,\n",
    "            max_new_tokens=50,\n",
    "            temperature=0.8\n",
    "        )\n",
    "\n",
    "    return tokenizer.decode(outputs[0], skip_special_tokens=True)\n",
    "\n",
    "# ✅ Run attack\n",
    "response = generate_with_embeddings(perturbed_embeddings)\n",
    "print(\"⚠️ Adversarial Response:\\n\", response)"
   ]
  },
  {
   "cell_type": "code",
   "execution_count": null,
   "metadata": {
    "vscode": {
     "languageId": "plaintext"
    }
   },
   "outputs": [],
   "source": [
    "original_response = tokenizer.decode(model.generate(tokenizer(test_text, return_tensors=\"pt\").to(device))[\"sequences\"][0], skip_special_tokens=True)\n",
    "adversarial_response = generate_with_embeddings(perturbed_embeddings)\n",
    "\n",
    "print(\"📝 Original Response:\\n\", original_response)\n",
    "print(\"\\n⚠️ Adversarial Response:\\n\", adversarial_response)"
   ]
  }
 ],
 "metadata": {
  "language_info": {
   "name": "python"
  }
 },
 "nbformat": 4,
 "nbformat_minor": 2
}
